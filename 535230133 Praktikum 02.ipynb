{
  "cells": [
    {
      "cell_type": "code",
      "source": [
        "from google.colab import drive\n",
        "drive.mount('/content/drive')"
      ],
      "outputs": [
        {
          "output_type": "stream",
          "name": "stdout",
          "text": "Mounted at /content/drive\n"
        }
      ],
      "execution_count": 7,
      "metadata": {
        "colab": {
          "base_uri": "https://localhost:8080/"
        },
        "id": "RwecKUVoFy5W",
        "outputId": "c0775459-d10a-4ca0-cc8d-270eacc8abbc"
      }
    },
    {
      "cell_type": "code",
      "source": [
        "import numpy as np\n"
      ],
      "outputs": [],
      "execution_count": 8,
      "metadata": {
        "id": "a01z6-vpF4m8"
      }
    },
    {
      "cell_type": "code",
      "source": [
        "data_path = \"/content/drive/MyDrive/Big Data/Praktikum02/ClassicCars.csv\""
      ],
      "outputs": [],
      "execution_count": 9,
      "metadata": {
        "id": "LEO0OHRwF8am"
      }
    },
    {
      "cell_type": "code",
      "source": [
        "types = ['U20', 'U10', 'U5', 'U20', 'U3', 'f4', 'f4', 'f4', 'f4', 'U10', 'i4', 'i4', 'i4', 'i4', 'i4']\n",
        "data = np.genfromtxt(data_path, dtype=types, delimiter=',', names=True)"
      ],
      "outputs": [],
      "execution_count": 10,
      "metadata": {
        "id": "nORo7qpKISN6"
      }
    },
    {
      "cell_type": "code",
      "source": [
        "data.dtype.names"
      ],
      "outputs": [
        {
          "output_type": "execute_result",
          "execution_count": 11,
          "data": {
            "text/plain": "('make',\n 'fueltype',\n 'numofdoors',\n 'bodystyle',\n 'drivewheels',\n 'wheelbase',\n 'length',\n 'width',\n 'height',\n 'numofcylinders',\n 'enginesize',\n 'horsepower',\n 'citympg',\n 'highwaympg',\n 'price')"
          },
          "metadata": {}
        }
      ],
      "execution_count": 11,
      "metadata": {
        "colab": {
          "base_uri": "https://localhost:8080/"
        },
        "id": "AJEnveNnKheF",
        "outputId": "04978e69-6af8-4598-f511-ffd64b4fa113"
      }
    },
    {
      "cell_type": "code",
      "source": [
        "print(\"The shape of the array is: \", data.shape)\n",
        "# Mencetak pesan yang menyertakan bentuk (shape) dari array atau DataFrame 'data'"
      ],
      "outputs": [
        {
          "output_type": "stream",
          "name": "stdout",
          "text": "The shape of the array is:  (205,)\n"
        }
      ],
      "execution_count": 13,
      "metadata": {
        "colab": {
          "base_uri": "https://localhost:8080/"
        },
        "id": "ZFsTEtflKw4P",
        "outputId": "a37aae30-002f-4547-9ee6-1ad7b4b5248c"
      }
    },
    {
      "cell_type": "code",
      "source": [
        "print(data['make'])\n",
        "#Mencetak kolom 'make' dari DataFrame 'data'"
      ],
      "outputs": [
        {
          "output_type": "stream",
          "name": "stdout",
          "text": "['alfa-romero' 'alfa-romero' 'alfa-romero' 'audi' 'audi' 'audi' 'audi'\n 'audi' 'audi' 'audi' 'bmw' 'bmw' 'bmw' 'bmw' 'bmw' 'bmw' 'bmw' 'bmw'\n 'chevrolet' 'chevrolet' 'chevrolet' 'dodge' 'dodge' 'dodge' 'dodge'\n 'dodge' 'dodge' 'dodge' 'dodge' 'dodge' 'honda' 'honda' 'honda' 'honda'\n 'honda' 'honda' 'honda' 'honda' 'honda' 'honda' 'honda' 'honda' 'honda'\n 'isuzu' 'isuzu' 'isuzu' 'isuzu' 'jaguar' 'jaguar' 'jaguar' 'mazda'\n 'mazda' 'mazda' 'mazda' 'mazda' 'mazda' 'mazda' 'mazda' 'mazda' 'mazda'\n 'mazda' 'mazda' 'mazda' 'mazda' 'mazda' 'mazda' 'mazda' 'mercedes-benz'\n 'mercedes-benz' 'mercedes-benz' 'mercedes-benz' 'mercedes-benz'\n 'mercedes-benz' 'mercedes-benz' 'mercedes-benz' 'mercury' 'mitsubishi'\n 'mitsubishi' 'mitsubishi' 'mitsubishi' 'mitsubishi' 'mitsubishi'\n 'mitsubishi' 'mitsubishi' 'mitsubishi' 'mitsubishi' 'mitsubishi'\n 'mitsubishi' 'mitsubishi' 'nissan' 'nissan' 'nissan' 'nissan' 'nissan'\n 'nissan' 'nissan' 'nissan' 'nissan' 'nissan' 'nissan' 'nissan' 'nissan'\n 'nissan' 'nissan' 'nissan' 'nissan' 'nissan' 'peugot' 'peugot' 'peugot'\n 'peugot' 'peugot' 'peugot' 'peugot' 'peugot' 'peugot' 'peugot' 'peugot'\n 'plymouth' 'plymouth' 'plymouth' 'plymouth' 'plymouth' 'plymouth'\n 'plymouth' 'porsche' 'porsche' 'porsche' 'porsche' 'porsche' 'renault'\n 'renault' 'saab' 'saab' 'saab' 'saab' 'saab' 'saab' 'subaru' 'subaru'\n 'subaru' 'subaru' 'subaru' 'subaru' 'subaru' 'subaru' 'subaru' 'subaru'\n 'subaru' 'subaru' 'toyota' 'toyota' 'toyota' 'toyota' 'toyota' 'toyota'\n 'toyota' 'toyota' 'toyota' 'toyota' 'toyota' 'toyota' 'toyota' 'toyota'\n 'toyota' 'toyota' 'toyota' 'toyota' 'toyota' 'toyota' 'toyota' 'toyota'\n 'toyota' 'toyota' 'toyota' 'toyota' 'toyota' 'toyota' 'toyota' 'toyota'\n 'toyota' 'toyota' 'volkswagen' 'volkswagen' 'volkswagen' 'volkswagen'\n 'volkswagen' 'volkswagen' 'volkswagen' 'volkswagen' 'volkswagen'\n 'volkswagen' 'volkswagen' 'volkswagen' 'volvo' 'volvo' 'volvo' 'volvo'\n 'volvo' 'volvo' 'volvo' 'volvo' 'volvo' 'volvo' 'volvo']\n"
        }
      ],
      "execution_count": 15,
      "metadata": {
        "colab": {
          "base_uri": "https://localhost:8080/"
        },
        "id": "ZK9MBsZ9Kzfu",
        "outputId": "40f4dd57-452d-4d97-d2e4-d39a3ff1054f"
      }
    },
    {
      "cell_type": "code",
      "source": [
        "data['bodystyle']\n",
        "# Mengakses dan mencetak kolom 'bodystyle' dari DataFrame 'data'"
      ],
      "outputs": [
        {
          "output_type": "execute_result",
          "execution_count": 16,
          "data": {
            "text/plain": "array(['convertible', 'convertible', 'hatchback', 'sedan', 'sedan',\n       'sedan', 'sedan', 'wagon', 'sedan', 'hatchback', 'sedan', 'sedan',\n       'sedan', 'sedan', 'sedan', 'sedan', 'sedan', 'sedan', 'hatchback',\n       'hatchback', 'sedan', 'hatchback', 'hatchback', 'hatchback',\n       'hatchback', 'sedan', 'sedan', 'sedan', 'wagon', 'hatchback',\n       'hatchback', 'hatchback', 'hatchback', 'hatchback', 'hatchback',\n       'sedan', 'wagon', 'hatchback', 'hatchback', 'sedan', 'sedan',\n       'sedan', 'sedan', 'sedan', 'sedan', 'sedan', 'hatchback', 'sedan',\n       'sedan', 'sedan', 'hatchback', 'hatchback', 'hatchback', 'sedan',\n       'sedan', 'hatchback', 'hatchback', 'hatchback', 'hatchback',\n       'hatchback', 'sedan', 'hatchback', 'sedan', 'sedan', 'hatchback',\n       'sedan', 'sedan', 'sedan', 'wagon', 'hardtop', 'sedan', 'sedan',\n       'convertible', 'sedan', 'hardtop', 'hatchback', 'hatchback',\n       'hatchback', 'hatchback', 'hatchback', 'hatchback', 'hatchback',\n       'hatchback', 'hatchback', 'hatchback', 'sedan', 'sedan', 'sedan',\n       'sedan', 'sedan', 'sedan', 'sedan', 'sedan', 'wagon', 'sedan',\n       'hatchback', 'sedan', 'wagon', 'hardtop', 'hatchback', 'sedan',\n       'sedan', 'wagon', 'sedan', 'hatchback', 'hatchback', 'hatchback',\n       'sedan', 'sedan', 'wagon', 'wagon', 'sedan', 'sedan', 'wagon',\n       'wagon', 'sedan', 'sedan', 'sedan', 'hatchback', 'hatchback',\n       'hatchback', 'sedan', 'sedan', 'wagon', 'hatchback', 'hatchback',\n       'hardtop', 'hardtop', 'convertible', 'hatchback', 'wagon',\n       'hatchback', 'hatchback', 'sedan', 'hatchback', 'sedan',\n       'hatchback', 'sedan', 'hatchback', 'hatchback', 'hatchback',\n       'sedan', 'sedan', 'sedan', 'sedan', 'sedan', 'wagon', 'wagon',\n       'wagon', 'wagon', 'hatchback', 'hatchback', 'hatchback', 'wagon',\n       'wagon', 'wagon', 'sedan', 'hatchback', 'sedan', 'hatchback',\n       'sedan', 'hatchback', 'sedan', 'sedan', 'hatchback', 'sedan',\n       'hatchback', 'hardtop', 'hardtop', 'hatchback', 'hardtop',\n       'hatchback', 'convertible', 'sedan', 'sedan', 'hatchback', 'sedan',\n       'hatchback', 'hatchback', 'hatchback', 'sedan', 'wagon', 'sedan',\n       'sedan', 'sedan', 'sedan', 'sedan', 'sedan', 'sedan',\n       'convertible', 'hatchback', 'sedan', 'sedan', 'wagon', 'sedan',\n       'wagon', 'sedan', 'wagon', 'sedan', 'wagon', 'sedan', 'sedan',\n       'sedan', 'sedan', 'sedan'], dtype='<U20')"
          },
          "metadata": {}
        }
      ],
      "execution_count": 16,
      "metadata": {
        "colab": {
          "base_uri": "https://localhost:8080/"
        },
        "id": "B9f55EOCK1kl",
        "outputId": "e7e3fff3-192d-455c-cb24-582fbe9f95d9"
      }
    },
    {
      "cell_type": "code",
      "source": [
        "min=np.min(data['price']) # Menghitung nilai minimum dari kolom price\n",
        "max=np.max(data['price']) # Menghitung nilai maksimum dari kolom price\n",
        "print('Min car price:', min)  # Mencetak nilai minimum dan maksimum dari kolom price\n",
        "print('Max car price:', max)\n",
        "print('Range: ', max-min) # Menghitung dan mencetak rentang (range) dari kolom price"
      ],
      "outputs": [
        {
          "output_type": "stream",
          "name": "stdout",
          "text": "Min car price: 5118\nMax car price: 45400\nRange:  40282\n"
        }
      ],
      "execution_count": 36,
      "metadata": {
        "colab": {
          "base_uri": "https://localhost:8080/"
        },
        "id": "9E-AuKT-K7i-",
        "outputId": "267b8eb0-66b8-45f9-b8d8-24635423e71d"
      }
    },
    {
      "cell_type": "code",
      "source": [
        "print(\"Min car price:\", np.min(data['price'])) # Mencetak nilai minimum dari kolom price\n",
        "print(\"Max car price:\", np.max(data['price'])) # Mencetak nilai maksimum dari kolom price\n",
        "print(\"Mean car price:\", np.mean(data['price'])) # Mencetak rata-rata (mean) dari kolom price\n",
        "print(\"Median car price:\", np.median(data['price'])) # Mencetak median dari kolom price"
      ],
      "outputs": [
        {
          "output_type": "stream",
          "name": "stdout",
          "text": "Min car price: 5118\nMax car price: 45400\nMean car price: 13300.239024390245\nMedian car price: 10345.0\n"
        }
      ],
      "execution_count": 35,
      "metadata": {
        "colab": {
          "base_uri": "https://localhost:8080/"
        },
        "id": "he1KSHRqLvN4",
        "outputId": "69175b9c-2c82-4640-e884-0844ec98022d"
      }
    },
    {
      "cell_type": "code",
      "source": [
        "def stdUsingNumpyOnly(prices):  # Menghitung deviasi standar menggunakan fungsi-fungsi NumPy\n",
        "  return np.sqrt(np.sum(np.power(np.subtract(prices, np.mean(prices)),2))/len(prices))"
      ],
      "outputs": [],
      "execution_count": 19,
      "metadata": {
        "id": "PvkQEPL0MBgw"
      }
    },
    {
      "cell_type": "code",
      "source": [
        "def stdImplementation(prices):\n",
        "  meanPrice = np.mean(prices)\n",
        "  # Menghitung kuadrat selisih antara setiap harga dan rata-rata\n",
        "  priceDiffSq = [np.power(price-meanPrice, 2) for price in prices]\n",
        "  priceDiffAvg = np.sum(priceDiffSq)/len(prices) # Menghitung rata-rata dari kuadrat selisih\n",
        "  return np.sqrt(priceDiffAvg) # Menghitung akar kuadrat dari rata-rata kuadrat selisih, menghasilkan deviasi standar"
      ],
      "outputs": [],
      "execution_count": 20,
      "metadata": {
        "id": "5SemVRDeMOG8"
      }
    },
    {
      "cell_type": "code",
      "source": [
        "# Menghitung deviasi standar menggunakan fungsi yang Anda definisikan\n",
        "print(\"Standard deviation using only numpy functions: \", stdUsingNumpyOnly(data['price']))\n",
        "# Menghitung deviasi standar menggunakan fungsi yang Anda implementasikan\n",
        "print(\"Standard deviation by implementing std function: \", stdImplementation(data['price']))\n",
        "print(\"Standard deviation using NumPy's std function:\", np.std(data['price']))\n",
        "# Menghitung deviasi standar menggunakan fungsi std bawaan NumPy"
      ],
      "outputs": [
        {
          "output_type": "stream",
          "name": "stdout",
          "text": "Standard deviation using only numpy functions:  7969.54140103854\nStandard deviation by implementing std function:  7969.54140103854\nStandard deviation using NumPy's std function: 7969.54140103854\n"
        }
      ],
      "execution_count": 21,
      "metadata": {
        "colab": {
          "base_uri": "https://localhost:8080/"
        },
        "id": "JiNKRKh8MSX_",
        "outputId": "960930d1-6b94-473a-e3cd-ce6879006e22"
      }
    },
    {
      "cell_type": "code",
      "source": [
        "\n",
        "# Menghitung volume mobil dengan mengalikan kolom length, height, dan width\n",
        "carsVolume = np.multiply(np.multiply(data['length'], data['height']), data['width'])"
      ],
      "outputs": [],
      "execution_count": 23,
      "metadata": {
        "id": "FyjcRsvuPH89"
      }
    },
    {
      "cell_type": "code",
      "source": [
        "carsVolume = np.multiply(np.multiply(data['length'], data['height']), data['width'])\n",
        "# Mencari nilai maksimum dan minimum dari volume mobil\n",
        "maxVolume = np.max(carsVolume)\n",
        "minVolume = np.min(carsVolume)\n",
        "# Mencari indeks mobil dengan volume maksimum dan minimu\n",
        "carWithMaxVolume = np.argmax(carsVolume)\n",
        "carWithMinVolume = np.argmin(carsVolume)\n",
        "\n",
        "# Menampilkan informasi tentang mobil dengan volume maksimum dan minimum\n",
        "print(\"Max volume:\", maxVolume, \" belongs to car \", data[carWithMaxVolume])\n",
        "\n",
        "print(\"Min volume:\", minVolume, \" belongs to car \", data[carWithMinVolume])"
      ],
      "outputs": [
        {
          "output_type": "stream",
          "name": "stdout",
          "text": "Max volume: 846007.7  belongs to car  ('mercedes-benz', 'gas', 'four', 'sedan', 'rwd', 120.9, 208.1, 71.7, 56.7, 'eight', 308, 184, 14, 16, 40960)\nMin volume: 452643.2  belongs to car  ('chevrolet', 'gas', 'two', 'hatchback', 'fwd', 88.4, 141.1, 60.3, 53.2, 'three', 61, 48, 47, 53, 5151)\n"
        }
      ],
      "execution_count": 24,
      "metadata": {
        "colab": {
          "base_uri": "https://localhost:8080/"
        },
        "id": "pvXu370lPIE7",
        "outputId": "9c54ecf5-3d51-4430-83d9-e95acd2625fe"
      }
    },
    {
      "cell_type": "code",
      "source": [
        "#Solution2\n",
        "carsVolume = data['length']* data['height']* data['width']\n",
        "#Solution3\n",
        "carsVolume = np.prod(np.vstack([data['length'], data['height'],\n",
        "data['width']]), axis=0)\n",
        "#Solution2 dan Solution3 adalah dua cara alternatif\n",
        "# untuk menghitung volume mobil menggunakan kolom 'length', 'height', dan 'width' dari DataFrame 'data'"
      ],
      "outputs": [],
      "execution_count": 25,
      "metadata": {
        "id": "uFH_l-3LPUzg"
      }
    },
    {
      "cell_type": "code",
      "source": [
        "print(\"Unique bodystyles: \", np.unique(data['bodystyle']))\n",
        "# Mencetak nilai unik dalam kolom bodystyle"
      ],
      "outputs": [
        {
          "output_type": "stream",
          "name": "stdout",
          "text": "Unique bodystyles:  ['convertible' 'hardtop' 'hatchback' 'sedan' 'wagon']\n"
        }
      ],
      "execution_count": 33,
      "metadata": {
        "colab": {
          "base_uri": "https://localhost:8080/"
        },
        "id": "JWbzMjb2PXZa",
        "outputId": "5089a931-93fd-4b04-ba56-ddbdd24fd64f"
      }
    },
    {
      "cell_type": "code",
      "source": [
        "uniqueCarMakes = np.unique(data['make'])\n",
        "print(\"There are \", len(uniqueCarMakes), \"unique car makes which are:\", uniqueCarMakes)\n",
        "\n",
        "# Mencetak jumlah nilai unik dan daftar merek mobil"
      ],
      "outputs": [
        {
          "output_type": "stream",
          "name": "stdout",
          "text": "There are  22 unique car makes which are: ['alfa-romero' 'audi' 'bmw' 'chevrolet' 'dodge' 'honda' 'isuzu' 'jaguar'\n 'mazda' 'mercedes-benz' 'mercury' 'mitsubishi' 'nissan' 'peugot'\n 'plymouth' 'porsche' 'renault' 'saab' 'subaru' 'toyota' 'volkswagen'\n 'volvo']\n"
        }
      ],
      "execution_count": 34,
      "metadata": {
        "colab": {
          "base_uri": "https://localhost:8080/"
        },
        "id": "bzTzusKWPa-C",
        "outputId": "7bb82001-7e6d-48fd-bff4-fbd8a07c2bc3"
      }
    },
    {
      "cell_type": "code",
      "source": [
        "fuelDiff = np.subtract(data['highwaympg'], data['citympg'])\n",
        "# Menghitung perbedaan konsumsi bahan bakar antara 'highwaympg' dan 'citympg'\n",
        "minFuelDiff = np.min(fuelDiff)\n",
        "maxFuelDiff = np.max(fuelDiff)\n",
        "# Mencari nilai minimum dan maksimum dari perbedaan konsumsi bahan bakar\n",
        "\n",
        "# Mencari indeks mobil dengan perbedaan konsumsi bahan bakar terkecil dan terbesar\n",
        "carWithMinFuelDiff = np.argmin(fuelDiff)\n",
        "carWithMaxFuelDiff = np.argmax(fuelDiff)\n",
        "\n",
        "# Menampilkan informasi tentang mobil dengan perbedaan konsumsi bahan bakar terkecil dan terbesar\n",
        "print(\"A %s with engine size=%d and horsepower=%d has the minimum fuel difference (%d) when driven in the city and the highway\"\n",
        "      % (data['make'][carWithMinFuelDiff], data[\"enginesize\"][carWithMinFuelDiff],\n",
        "data['horsepower'][carWithMinFuelDiff], minFuelDiff))\n",
        "print(\"A %s with engine size=%d and horsepower=%d has the maximum fuel difference (%d) when driven in the city and the highway\"\n",
        "% (data['make'][carWithMaxFuelDiff], data[\"enginesize\"][carWithMaxFuelDiff],\n",
        "data['horsepower'][carWithMaxFuelDiff], maxFuelDiff))"
      ],
      "outputs": [
        {
          "output_type": "stream",
          "name": "stdout",
          "text": "A peugot with engine size=152 and horsepower=95 has the minimum fuel difference (0) when driven in the city and the highway\nA porsche with engine size=203 and horsepower=288 has the maximum fuel difference (11) when driven in the city and the highway\n"
        }
      ],
      "execution_count": 28,
      "metadata": {
        "colab": {
          "base_uri": "https://localhost:8080/"
        },
        "id": "ZDSGWDl-Pj9t",
        "outputId": "01b7699c-5ca9-457d-e1be-64b9d20356f6"
      }
    },
    {
      "cell_type": "code",
      "source": [
        "makes,counts = np.unique(data['make'], return_counts=True) # Menggunakan NumPy untuk mendapatkan nilai unik dan menghitung jumlah kemunculannya\n",
        "maxCarsSameMake = np.argmax(counts)# Menemukan indeks merek mobil yang paling sering muncul\n",
        "make = makes[maxCarsSameMake]# Mendapatkan merek mobil yang paling sering muncul\n",
        "# Mencetak jumlah mobil dan merek yang paling sering muncul\n",
        "print(\"The company has %d %s cars \" % (np.max(counts), make))"
      ],
      "outputs": [
        {
          "output_type": "stream",
          "name": "stdout",
          "text": "The company has 32 toyota cars \n"
        }
      ],
      "execution_count": 29,
      "metadata": {
        "colab": {
          "base_uri": "https://localhost:8080/"
        },
        "id": "iHVW3THdPuVk",
        "outputId": "dce112af-3ec3-439a-9401-b2e414a3df5e"
      }
    },
    {
      "cell_type": "code",
      "source": [
        "cheapConvertibles = data[(data['bodystyle']==\"convertible\") & (data['price']<15000)]\n",
        "# Memfilter data untuk mendapatkan convertibles dengan harga kurang dari 15000\n",
        "print(\"Details of convertibles that cost less than £15000:\\n\", cheapConvertibles)\n"
      ],
      "outputs": [
        {
          "output_type": "stream",
          "name": "stdout",
          "text": "Details of convertibles that cost less than £15000:\n [('alfa-romero', 'gas', 'two', 'convertible', 'rwd', 88.6, 168.8, 64.1, 48.8, 'four', 130, 111, 21, 27, 13495)\n ('volkswagen', 'gas', 'two', 'convertible', 'fwd', 94.5, 159.3, 64.2, 55.6, 'four', 109,  90, 24, 29, 11595)]\n"
        }
      ],
      "execution_count": 30,
      "metadata": {
        "colab": {
          "base_uri": "https://localhost:8080/"
        },
        "id": "VBLBjJcIPwyL",
        "outputId": "ca639256-6b9a-4d08-e646-b0dd5d9fea55"
      }
    },
    {
      "cell_type": "code",
      "source": [
        "Q3P = np.percentile(data['price'], 75) #Third quartile\n",
        "Q1P = np.percentile(data['price'], 25) #First quartile\n",
        "IQRP = Q3P - Q1P #Inter Quartile Range\n",
        "\n",
        "# Menghitung nilai kuartil pertama (Q1) dan kuartil ketiga (Q3)\n",
        "print('Price IQR:', IQRP) #print price IQR"
      ],
      "outputs": [
        {
          "output_type": "stream",
          "name": "stdout",
          "text": "Price IQR: 8715.0\n"
        }
      ],
      "execution_count": 32,
      "metadata": {
        "colab": {
          "base_uri": "https://localhost:8080/"
        },
        "id": "kNmOYWLhQWhC",
        "outputId": "d3043a08-3da6-4883-c7c2-d8739bf9551c"
      }
    },
    {
      "cell_type": "code",
      "source": [
        "percentile50HP = np.percentile(data['horsepower'], 50) #50th percentile\n",
        "# Menghitung persentil ke-50 (50th percentile) dari kolom 'horsepower'\n",
        "print('Horsepower 50th percentile:', percentile50HP)\n",
        "\n",
        "print(\"Median horsepower:\", np.median(data['horsepower']))  #output median dari data horsepower"
      ],
      "outputs": [
        {
          "output_type": "stream",
          "name": "stdout",
          "text": "Horsepower 50th percentile: 95.0\nMedian horsepower: 95.0\n"
        }
      ],
      "execution_count": 31,
      "metadata": {
        "colab": {
          "base_uri": "https://localhost:8080/"
        },
        "id": "PVeSCHd8QZKx",
        "outputId": "a7e06e87-b305-4f69-ef77-8d0d95090bd3"
      }
    },
    {
      "cell_type": "code",
      "source": [
        "# Nama: Hernando Bun\n",
        "# NIM : 535230133"
      ],
      "outputs": [],
      "execution_count": null,
      "metadata": {
        "id": "lUZ2TJ-uQanQ"
      }
    },
    {
      "cell_type": "code",
      "source": [],
      "outputs": [],
      "execution_count": null,
      "metadata": {
        "id": "gPcmNd0CWg78"
      }
    }
  ],
  "metadata": {
    "colab": {
      "provenance": []
    },
    "kernelspec": {
      "name": "python",
      "language": "python",
      "display_name": "Pyolite (preview)"
    },
    "nteract": {
      "version": "nteract-front-end@1.0.0"
    },
    "language_info": {
      "codemirror_mode": {
        "name": "python",
        "version": 3
      },
      "file_extension": ".py",
      "mimetype": "text/x-python",
      "name": "python",
      "nbconvert_exporter": "python",
      "pygments_lexer": "ipython3",
      "version": "3.8"
    },
    "kernel_info": {
      "name": "python"
    }
  },
  "nbformat": 4,
  "nbformat_minor": 0
}