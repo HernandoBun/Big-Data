{
 "cells": [
  {
   "cell_type": "code",
   "execution_count": 64,
   "metadata": {},
   "outputs": [],
   "source": [
    "import pandas as pd\n",
    "import numpy as np\n",
    "import seaborn as sns \n",
    "import matplotlib.pyplot as plt\n",
    "\n",
    "file = \"titanicFull.csv\"\n",
    "df = pd.read_csv(file)"
   ]
  },
  {
   "cell_type": "code",
   "execution_count": 65,
   "metadata": {},
   "outputs": [
    {
     "data": {
      "text/html": [
       "<div>\n",
       "<style scoped>\n",
       "    .dataframe tbody tr th:only-of-type {\n",
       "        vertical-align: middle;\n",
       "    }\n",
       "\n",
       "    .dataframe tbody tr th {\n",
       "        vertical-align: top;\n",
       "    }\n",
       "\n",
       "    .dataframe thead th {\n",
       "        text-align: right;\n",
       "    }\n",
       "</style>\n",
       "<table border=\"1\" class=\"dataframe\">\n",
       "  <thead>\n",
       "    <tr style=\"text-align: right;\">\n",
       "      <th></th>\n",
       "      <th>pclass</th>\n",
       "      <th>survived</th>\n",
       "      <th>name</th>\n",
       "      <th>sex</th>\n",
       "      <th>age</th>\n",
       "      <th>sibsp</th>\n",
       "      <th>parch</th>\n",
       "      <th>ticket</th>\n",
       "      <th>fare</th>\n",
       "      <th>cabin</th>\n",
       "      <th>embarked</th>\n",
       "    </tr>\n",
       "  </thead>\n",
       "  <tbody>\n",
       "    <tr>\n",
       "      <th>0</th>\n",
       "      <td>1</td>\n",
       "      <td>1</td>\n",
       "      <td>Allen, Miss. Elisabeth Walton</td>\n",
       "      <td>female</td>\n",
       "      <td>29.00</td>\n",
       "      <td>0</td>\n",
       "      <td>0</td>\n",
       "      <td>24160</td>\n",
       "      <td>211.3375</td>\n",
       "      <td>B5</td>\n",
       "      <td>S</td>\n",
       "    </tr>\n",
       "    <tr>\n",
       "      <th>1</th>\n",
       "      <td>1</td>\n",
       "      <td>1</td>\n",
       "      <td>Allison, Master. Hudson Trevor</td>\n",
       "      <td>male</td>\n",
       "      <td>0.92</td>\n",
       "      <td>1</td>\n",
       "      <td>2</td>\n",
       "      <td>113781</td>\n",
       "      <td>151.5500</td>\n",
       "      <td>C22 C26</td>\n",
       "      <td>S</td>\n",
       "    </tr>\n",
       "    <tr>\n",
       "      <th>2</th>\n",
       "      <td>1</td>\n",
       "      <td>0</td>\n",
       "      <td>Allison, Miss. Helen Loraine</td>\n",
       "      <td>female</td>\n",
       "      <td>2.00</td>\n",
       "      <td>1</td>\n",
       "      <td>2</td>\n",
       "      <td>113781</td>\n",
       "      <td>151.5500</td>\n",
       "      <td>C22 C26</td>\n",
       "      <td>S</td>\n",
       "    </tr>\n",
       "    <tr>\n",
       "      <th>3</th>\n",
       "      <td>1</td>\n",
       "      <td>0</td>\n",
       "      <td>Allison, Mr. Hudson Joshua Creighton</td>\n",
       "      <td>male</td>\n",
       "      <td>30.00</td>\n",
       "      <td>1</td>\n",
       "      <td>2</td>\n",
       "      <td>113781</td>\n",
       "      <td>151.5500</td>\n",
       "      <td>C22 C26</td>\n",
       "      <td>S</td>\n",
       "    </tr>\n",
       "  </tbody>\n",
       "</table>\n",
       "</div>"
      ],
      "text/plain": [
       "   pclass  survived                                  name     sex    age  \\\n",
       "0       1         1         Allen, Miss. Elisabeth Walton  female  29.00   \n",
       "1       1         1        Allison, Master. Hudson Trevor    male   0.92   \n",
       "2       1         0          Allison, Miss. Helen Loraine  female   2.00   \n",
       "3       1         0  Allison, Mr. Hudson Joshua Creighton    male  30.00   \n",
       "\n",
       "   sibsp  parch  ticket      fare    cabin embarked  \n",
       "0      0      0   24160  211.3375       B5        S  \n",
       "1      1      2  113781  151.5500  C22 C26        S  \n",
       "2      1      2  113781  151.5500  C22 C26        S  \n",
       "3      1      2  113781  151.5500  C22 C26        S  "
      ]
     },
     "execution_count": 65,
     "metadata": {},
     "output_type": "execute_result"
    }
   ],
   "source": [
    "# Cetak 4 baris pertama dari kumpulan data\n",
    "df.head(4)"
   ]
  },
  {
   "cell_type": "code",
   "execution_count": 66,
   "metadata": {},
   "outputs": [
    {
     "data": {
      "text/html": [
       "<div>\n",
       "<style scoped>\n",
       "    .dataframe tbody tr th:only-of-type {\n",
       "        vertical-align: middle;\n",
       "    }\n",
       "\n",
       "    .dataframe tbody tr th {\n",
       "        vertical-align: top;\n",
       "    }\n",
       "\n",
       "    .dataframe thead th {\n",
       "        text-align: right;\n",
       "    }\n",
       "</style>\n",
       "<table border=\"1\" class=\"dataframe\">\n",
       "  <thead>\n",
       "    <tr style=\"text-align: right;\">\n",
       "      <th></th>\n",
       "      <th>pclass</th>\n",
       "      <th>survived</th>\n",
       "      <th>name</th>\n",
       "      <th>sex</th>\n",
       "      <th>age</th>\n",
       "      <th>sibsp</th>\n",
       "      <th>parch</th>\n",
       "      <th>ticket</th>\n",
       "      <th>fare</th>\n",
       "      <th>cabin</th>\n",
       "      <th>embarked</th>\n",
       "    </tr>\n",
       "  </thead>\n",
       "  <tbody>\n",
       "    <tr>\n",
       "      <th>1303</th>\n",
       "      <td>3</td>\n",
       "      <td>0</td>\n",
       "      <td>Yousseff, Mr. Gerious</td>\n",
       "      <td>male</td>\n",
       "      <td>NaN</td>\n",
       "      <td>0</td>\n",
       "      <td>0</td>\n",
       "      <td>2627</td>\n",
       "      <td>14.4583</td>\n",
       "      <td>NaN</td>\n",
       "      <td>C</td>\n",
       "    </tr>\n",
       "    <tr>\n",
       "      <th>1304</th>\n",
       "      <td>3</td>\n",
       "      <td>0</td>\n",
       "      <td>Zabour, Miss. Hileni</td>\n",
       "      <td>female</td>\n",
       "      <td>14.5</td>\n",
       "      <td>1</td>\n",
       "      <td>0</td>\n",
       "      <td>2665</td>\n",
       "      <td>14.4542</td>\n",
       "      <td>NaN</td>\n",
       "      <td>C</td>\n",
       "    </tr>\n",
       "    <tr>\n",
       "      <th>1305</th>\n",
       "      <td>3</td>\n",
       "      <td>0</td>\n",
       "      <td>Zabour, Miss. Thamine</td>\n",
       "      <td>female</td>\n",
       "      <td>NaN</td>\n",
       "      <td>1</td>\n",
       "      <td>0</td>\n",
       "      <td>2665</td>\n",
       "      <td>14.4542</td>\n",
       "      <td>NaN</td>\n",
       "      <td>C</td>\n",
       "    </tr>\n",
       "    <tr>\n",
       "      <th>1306</th>\n",
       "      <td>3</td>\n",
       "      <td>0</td>\n",
       "      <td>Zakarian, Mr. Mapriededer</td>\n",
       "      <td>male</td>\n",
       "      <td>26.5</td>\n",
       "      <td>0</td>\n",
       "      <td>0</td>\n",
       "      <td>2656</td>\n",
       "      <td>7.2250</td>\n",
       "      <td>NaN</td>\n",
       "      <td>C</td>\n",
       "    </tr>\n",
       "    <tr>\n",
       "      <th>1307</th>\n",
       "      <td>3</td>\n",
       "      <td>0</td>\n",
       "      <td>Zakarian, Mr. Ortin</td>\n",
       "      <td>male</td>\n",
       "      <td>27.0</td>\n",
       "      <td>0</td>\n",
       "      <td>0</td>\n",
       "      <td>2670</td>\n",
       "      <td>7.2250</td>\n",
       "      <td>NaN</td>\n",
       "      <td>C</td>\n",
       "    </tr>\n",
       "    <tr>\n",
       "      <th>1308</th>\n",
       "      <td>3</td>\n",
       "      <td>0</td>\n",
       "      <td>Zimmerman, Mr. Leo</td>\n",
       "      <td>male</td>\n",
       "      <td>29.0</td>\n",
       "      <td>0</td>\n",
       "      <td>0</td>\n",
       "      <td>315082</td>\n",
       "      <td>7.8750</td>\n",
       "      <td>NaN</td>\n",
       "      <td>S</td>\n",
       "    </tr>\n",
       "  </tbody>\n",
       "</table>\n",
       "</div>"
      ],
      "text/plain": [
       "      pclass  survived                       name     sex   age  sibsp  parch  \\\n",
       "1303       3         0      Yousseff, Mr. Gerious    male   NaN      0      0   \n",
       "1304       3         0       Zabour, Miss. Hileni  female  14.5      1      0   \n",
       "1305       3         0      Zabour, Miss. Thamine  female   NaN      1      0   \n",
       "1306       3         0  Zakarian, Mr. Mapriededer    male  26.5      0      0   \n",
       "1307       3         0        Zakarian, Mr. Ortin    male  27.0      0      0   \n",
       "1308       3         0         Zimmerman, Mr. Leo    male  29.0      0      0   \n",
       "\n",
       "      ticket     fare cabin embarked  \n",
       "1303    2627  14.4583   NaN        C  \n",
       "1304    2665  14.4542   NaN        C  \n",
       "1305    2665  14.4542   NaN        C  \n",
       "1306    2656   7.2250   NaN        C  \n",
       "1307    2670   7.2250   NaN        C  \n",
       "1308  315082   7.8750   NaN        S  "
      ]
     },
     "execution_count": 66,
     "metadata": {},
     "output_type": "execute_result"
    }
   ],
   "source": [
    "# Cetak 6 baris terakhir dari kumpulan data\n",
    "df.iloc[-6:]"
   ]
  },
  {
   "cell_type": "code",
   "execution_count": 67,
   "metadata": {},
   "outputs": [
    {
     "name": "stdout",
     "output_type": "stream",
     "text": [
      "<class 'pandas.core.frame.DataFrame'>\n",
      "RangeIndex: 1309 entries, 0 to 1308\n",
      "Data columns (total 11 columns):\n",
      " #   Column    Non-Null Count  Dtype  \n",
      "---  ------    --------------  -----  \n",
      " 0   pclass    1309 non-null   int64  \n",
      " 1   survived  1309 non-null   int64  \n",
      " 2   name      1309 non-null   object \n",
      " 3   sex       1309 non-null   object \n",
      " 4   age       1046 non-null   float64\n",
      " 5   sibsp     1309 non-null   int64  \n",
      " 6   parch     1309 non-null   int64  \n",
      " 7   ticket    1309 non-null   object \n",
      " 8   fare      1308 non-null   float64\n",
      " 9   cabin     295 non-null    object \n",
      " 10  embarked  1307 non-null   object \n",
      "dtypes: float64(2), int64(4), object(5)\n",
      "memory usage: 112.6+ KB\n"
     ]
    }
   ],
   "source": [
    "# Dapatkan info umum tentang kumpulan data\n",
    "df.info()"
   ]
  },
  {
   "cell_type": "markdown",
   "metadata": {},
   "source": [
    "# Answer\n",
    "# - Pclass: Passenger class  (1=1st; 2=2nd; 3=3rd - Categorical - ordinal - transformed into 1,2,3))\n",
    "# - Survived: Survival (0=No; 1=Yes - Categorical - nominal - transformed into 0 and 1)\n",
    "# - Name: Passenger's name (Text)\n",
    "# - Sex: Passenger's sex (Categorical - nominal)          \n",
    "# - Age: Passenger's age (Numerical - discrete)       \n",
    "# - SibSp: Number of Siblings/Spouses Aboard (Numerical - discrete)       \n",
    "# - Parch: Number of Parents/Children Aboard (Numerical - discrete)       \n",
    "# - Ticket: Ticket number (Text)       \n",
    "# - Fare: Passenger fare (Numerical - continuous)       \n",
    "# - Cabin: Cabin number (Categorical - nominal) \n",
    "# - Embarked: Port of Embarkation (C = Cherbourg; Q = Queenstown; S = Southampton)\n"
   ]
  },
  {
   "cell_type": "code",
   "execution_count": 68,
   "metadata": {},
   "outputs": [
    {
     "data": {
      "text/plain": [
       "(1309, 11)"
      ]
     },
     "execution_count": 68,
     "metadata": {},
     "output_type": "execute_result"
    }
   ],
   "source": [
    "#Menampilkan bentuk data\n",
    "df.shape"
   ]
  },
  {
   "cell_type": "code",
   "execution_count": 69,
   "metadata": {},
   "outputs": [
    {
     "data": {
      "text/plain": [
       "Index(['pclass', 'survived', 'name', 'sex', 'age', 'sibsp', 'parch', 'ticket',\n",
       "       'fare', 'cabin', 'embarked'],\n",
       "      dtype='object')"
      ]
     },
     "execution_count": 69,
     "metadata": {},
     "output_type": "execute_result"
    }
   ],
   "source": [
    "#Menampilkan kolom dataframe\n",
    "df.columns"
   ]
  },
  {
   "cell_type": "code",
   "execution_count": 70,
   "metadata": {},
   "outputs": [
    {
     "data": {
      "text/plain": [
       "Index(['ticketClass', 'survived', 'name', 'sex', 'age', 'siblingsSpouses',\n",
       "       'parentsChildren', 'ticket', 'fare', 'cabin', 'embarked'],\n",
       "      dtype='object')"
      ]
     },
     "execution_count": 70,
     "metadata": {},
     "output_type": "execute_result"
    }
   ],
   "source": [
    "df.rename(index=str, columns={\"pclass\":\"ticketClass\", \"sibsp\":\"siblingsSpouses\", \"parch\":\"parentsChildren\"}, inplace=True)\n",
    "# Menampilkan data kolom (variabel) lebih mudah untuk dibaca\n",
    "df.columns\n"
   ]
  },
  {
   "cell_type": "code",
   "execution_count": 71,
   "metadata": {},
   "outputs": [
    {
     "name": "stdout",
     "output_type": "stream",
     "text": [
      "There are 0 duplicated records\n"
     ]
    }
   ],
   "source": [
    "#Apakah ada catatan duplikat\n",
    "\n",
    "duplicated = df.duplicated().sum()\n",
    "print(\"There are %d duplicated records\" % (duplicated))"
   ]
  },
  {
   "cell_type": "code",
   "execution_count": 72,
   "metadata": {},
   "outputs": [],
   "source": [
    "#Salin kumpulan data sehingga Anda memanipulasi kumpulan data yang disalin dan membiarkan yang asli tidak terpengaruh\n",
    "dff = df.copy()"
   ]
  },
  {
   "cell_type": "code",
   "execution_count": 73,
   "metadata": {},
   "outputs": [
    {
     "data": {
      "text/html": [
       "<div>\n",
       "<style scoped>\n",
       "    .dataframe tbody tr th:only-of-type {\n",
       "        vertical-align: middle;\n",
       "    }\n",
       "\n",
       "    .dataframe tbody tr th {\n",
       "        vertical-align: top;\n",
       "    }\n",
       "\n",
       "    .dataframe thead th {\n",
       "        text-align: right;\n",
       "    }\n",
       "</style>\n",
       "<table border=\"1\" class=\"dataframe\">\n",
       "  <thead>\n",
       "    <tr style=\"text-align: right;\">\n",
       "      <th></th>\n",
       "      <th>Missing</th>\n",
       "      <th>Percentage</th>\n",
       "    </tr>\n",
       "  </thead>\n",
       "  <tbody>\n",
       "    <tr>\n",
       "      <th>cabin</th>\n",
       "      <td>1014</td>\n",
       "      <td>0.774637</td>\n",
       "    </tr>\n",
       "    <tr>\n",
       "      <th>age</th>\n",
       "      <td>263</td>\n",
       "      <td>0.200917</td>\n",
       "    </tr>\n",
       "    <tr>\n",
       "      <th>embarked</th>\n",
       "      <td>2</td>\n",
       "      <td>0.001528</td>\n",
       "    </tr>\n",
       "    <tr>\n",
       "      <th>fare</th>\n",
       "      <td>1</td>\n",
       "      <td>0.000764</td>\n",
       "    </tr>\n",
       "    <tr>\n",
       "      <th>ticketClass</th>\n",
       "      <td>0</td>\n",
       "      <td>0.000000</td>\n",
       "    </tr>\n",
       "    <tr>\n",
       "      <th>survived</th>\n",
       "      <td>0</td>\n",
       "      <td>0.000000</td>\n",
       "    </tr>\n",
       "    <tr>\n",
       "      <th>name</th>\n",
       "      <td>0</td>\n",
       "      <td>0.000000</td>\n",
       "    </tr>\n",
       "    <tr>\n",
       "      <th>sex</th>\n",
       "      <td>0</td>\n",
       "      <td>0.000000</td>\n",
       "    </tr>\n",
       "    <tr>\n",
       "      <th>siblingsSpouses</th>\n",
       "      <td>0</td>\n",
       "      <td>0.000000</td>\n",
       "    </tr>\n",
       "    <tr>\n",
       "      <th>parentsChildren</th>\n",
       "      <td>0</td>\n",
       "      <td>0.000000</td>\n",
       "    </tr>\n",
       "    <tr>\n",
       "      <th>ticket</th>\n",
       "      <td>0</td>\n",
       "      <td>0.000000</td>\n",
       "    </tr>\n",
       "  </tbody>\n",
       "</table>\n",
       "</div>"
      ],
      "text/plain": [
       "                 Missing  Percentage\n",
       "cabin               1014    0.774637\n",
       "age                  263    0.200917\n",
       "embarked               2    0.001528\n",
       "fare                   1    0.000764\n",
       "ticketClass            0    0.000000\n",
       "survived               0    0.000000\n",
       "name                   0    0.000000\n",
       "sex                    0    0.000000\n",
       "siblingsSpouses        0    0.000000\n",
       "parentsChildren        0    0.000000\n",
       "ticket                 0    0.000000"
      ]
     },
     "execution_count": 73,
     "metadata": {},
     "output_type": "execute_result"
    }
   ],
   "source": [
    "\n",
    "# Tampilkan missing data and urutkan dalam urutan secara ascending (naik) missingDataSummary\t= dff.isna().sum()\n",
    "missingDataSummary\t= dff.isna().sum()\n",
    "# Hitung persentase of missing data\n",
    "missingDataPercentage = (dff.isnull().sum()/dff.shape[0])\n",
    "# Gabungkan dua Seri\n",
    "missingData = pd.concat([missingDataSummary, missingDataPercentage], axis=1, keys=['Missing','Percentage'])\n",
    "missingData.sort_values(ascending=False, by='Missing')\n"
   ]
  },
  {
   "cell_type": "code",
   "execution_count": 74,
   "metadata": {},
   "outputs": [
    {
     "data": {
      "text/plain": [
       "age                263\n",
       "embarked             2\n",
       "fare                 1\n",
       "ticketClass          0\n",
       "survived             0\n",
       "name                 0\n",
       "sex                  0\n",
       "siblingsSpouses      0\n",
       "parentsChildren      0\n",
       "ticket               0\n",
       "dtype: int64"
      ]
     },
     "execution_count": 74,
     "metadata": {},
     "output_type": "execute_result"
    }
   ],
   "source": [
    "# Kita perlu membuang variabel Cabin karena data yang hilang adalah 77% dari total data\n",
    "dffClean = dff.drop(columns='cabin')\n",
    "dffClean.isna().sum().sort_values(ascending=False)\n"
   ]
  },
  {
   "cell_type": "code",
   "execution_count": 75,
   "metadata": {},
   "outputs": [
    {
     "name": "stdout",
     "output_type": "stream",
     "text": [
      "<class 'pandas.core.frame.DataFrame'>\n",
      "Index: 1309 entries, 0 to 1308\n",
      "Data columns (total 10 columns):\n",
      " #   Column           Non-Null Count  Dtype  \n",
      "---  ------           --------------  -----  \n",
      " 0   ticketClass      1309 non-null   int64  \n",
      " 1   survived         1309 non-null   int64  \n",
      " 2   name             1309 non-null   object \n",
      " 3   sex              1309 non-null   object \n",
      " 4   age              1046 non-null   float64\n",
      " 5   siblingsSpouses  1309 non-null   int64  \n",
      " 6   parentsChildren  1309 non-null   int64  \n",
      " 7   ticket           1309 non-null   object \n",
      " 8   fare             1308 non-null   float64\n",
      " 9   embarked         1307 non-null   object \n",
      "dtypes: float64(2), int64(4), object(4)\n",
      "memory usage: 112.5+ KB\n"
     ]
    },
    {
     "data": {
      "text/plain": [
       "age                263\n",
       "fare                 1\n",
       "ticketClass          0\n",
       "survived             0\n",
       "name                 0\n",
       "sex                  0\n",
       "siblingsSpouses      0\n",
       "parentsChildren      0\n",
       "ticket               0\n",
       "embarked             0\n",
       "dtype: int64"
      ]
     },
     "execution_count": 75,
     "metadata": {},
     "output_type": "execute_result"
    }
   ],
   "source": [
    "#Isi missing data yang memiliki tipe categorical dengan mode\n",
    "dffClean.info() \n",
    "dff.isna().sum()\n",
    "dffClean[dffClean['embarked'].isna()]\n",
    "dffClean['embarked'] = dffClean['embarked'].fillna(dffClean['embarked'].mode()[0])\n",
    "dffClean.isna().sum().sort_values(ascending=False)\n"
   ]
  },
  {
   "cell_type": "code",
   "execution_count": 76,
   "metadata": {},
   "outputs": [
    {
     "data": {
      "text/plain": [
       "Text(0.5, 0, 'Age')"
      ]
     },
     "execution_count": 76,
     "metadata": {},
     "output_type": "execute_result"
    },
    {
     "data": {
      "image/png": "[encoded data removed]",
      "text/plain": [
       "<Figure size 400x300 with 1 Axes>"
      ]
     },
     "metadata": {},
     "output_type": "display_data"
    },
    {
     "data": {
      "image/png": "[encoded data removed]",
      "text/plain": [
       "<Figure size 400x300 with 1 Axes>"
      ]
     },
     "metadata": {},
     "output_type": "display_data"
    },
    {
     "data": {
      "image/png": "[encoded data removed]",
      "text/plain": [
       "<Figure size 400x300 with 1 Axes>"
      ]
     },
     "metadata": {},
     "output_type": "display_data"
    }
   ],
   "source": [
    "#Menggunakan pandas\n",
    "plt.figure(figsize=(4,3), dpi=100) \n",
    "ax = dffClean['age'].hist(bins=20)\n",
    "ax.set_title(\"Histogram for age variable\",fontsize=16) \n",
    "ax.set_xlabel('Age', fontsize=16)                  # set x label ax.set_ylabel('Age (Count)', fontsize=16, rotation=90) # set y label ax.grid(False)\n",
    "#Menggunakan seaborn\n",
    "plt.figure(figsize=(4,3), dpi=100)\n",
    "g = sns.histplot(dffClean, x='age', kde=True, color='steelblue', bins=20) \n",
    "g.set_title(\"Histogram for age variable\",fontsize=16)\n",
    "g.set_xlabel('Age', fontsize=16)                  # set x label\n",
    "g.set_ylabel('Age (Count)', fontsize=16, rotation=90) # set y label\n",
    "#Menggunakan matplotlib\n",
    "plt.figure(figsize=(4,3), dpi=100)\n",
    "plt.hist(dffClean['age'], bins=20, alpha=0.5, density=False,histtype='stepfilled', color='steelblue', edgecolor='none')\n",
    "# alpha=0.5 -> transparent level\n",
    "plt.title(\"Histogram for age variable\",fontsize=16) \n",
    "plt.xlabel('Age',fontsize=16)                  # set x label plt.ylabel('Age (Count)',fontsize=16,rotation=90) # set y label\n"
   ]
  },
  {
   "cell_type": "code",
   "execution_count": 77,
   "metadata": {},
   "outputs": [
    {
     "name": "stdout",
     "output_type": "stream",
     "text": [
      "<class 'pandas.core.frame.DataFrame'>\n",
      "Index: 1309 entries, 0 to 1308\n",
      "Data columns (total 10 columns):\n",
      " #   Column           Non-Null Count  Dtype  \n",
      "---  ------           --------------  -----  \n",
      " 0   ticketClass      1309 non-null   int64  \n",
      " 1   survived         1309 non-null   int64  \n",
      " 2   name             1309 non-null   object \n",
      " 3   sex              1309 non-null   object \n",
      " 4   age              1046 non-null   float64\n",
      " 5   siblingsSpouses  1309 non-null   int64  \n",
      " 6   parentsChildren  1309 non-null   int64  \n",
      " 7   ticket           1309 non-null   object \n",
      " 8   fare             1308 non-null   float64\n",
      " 9   embarked         1309 non-null   object \n",
      "dtypes: float64(2), int64(4), object(4)\n",
      "memory usage: 144.8+ KB\n"
     ]
    },
    {
     "data": {
      "text/plain": [
       "Text(0, 0.5, 'Age (Count))')"
      ]
     },
     "execution_count": 77,
     "metadata": {},
     "output_type": "execute_result"
    },
    {
     "data": {
      "image/png": "[encoded data removed]",
      "text/plain": [
       "<Figure size 400x300 with 1 Axes>"
      ]
     },
     "metadata": {},
     "output_type": "display_data"
    }
   ],
   "source": [
    "# Isi missing values dengan nilai yang sesuai\n",
    "dffClean.info() \n",
    "dff.isna().sum()\n",
    "dffClean[dffClean['age'].isna()]\n",
    "dffClean['age'] = dffClean['age'].fillna(dffClean['age'].median())\n",
    "dffClean.isna().sum().sort_values(ascending=False) \n",
    "#Plot histogram lagi untuk variabel dari tugas T13 setelah imputasi dan amati bagaimana distribusinya berubah.\n",
    "#Using seaborn\n",
    "plt.figure(figsize=(4,3), dpi=100)\n",
    "g = sns.histplot(dffClean, x='age', kde=True, color='steelblue')\n",
    "g.set_title(\"Histogram for age variable\",fontsize=16)\n",
    "g.set_xlabel('Age', fontsize=16)                  # set x label\n",
    "g.set_ylabel('Age (Count))', fontsize=16, rotation=90) # set y label\n"
   ]
  },
  {
   "cell_type": "code",
   "execution_count": 78,
   "metadata": {},
   "outputs": [
    {
     "name": "stderr",
     "output_type": "stream",
     "text": [
      "C:\\Users\\Hernando\\AppData\\Local\\Temp\\ipykernel_21932\\3508946566.py:8: FutureWarning: Series.__getitem__ treating keys as positions is deprecated. In a future version, integer keys will always be treated as labels (consistent with DataFrame behavior). To access a value by position, use `ser.iloc[pos]`\n",
      "  fareMedian = dffClean[dffClean['ticketClass']==ticketClass[0]]['fare'].median()\n"
     ]
    },
    {
     "data": {
      "text/plain": [
       "ticketClass        0\n",
       "survived           0\n",
       "name               0\n",
       "sex                0\n",
       "age                0\n",
       "siblingsSpouses    0\n",
       "parentsChildren    0\n",
       "ticket             0\n",
       "fare               0\n",
       "embarked           0\n",
       "dtype: int64"
      ]
     },
     "execution_count": 78,
     "metadata": {},
     "output_type": "execute_result"
    }
   ],
   "source": [
    "dffClean[dffClean['fare'].isna()]\n",
    "#Karena nilai yang hilang adalah tarif, kemungkinan tiket dari kelas yang sama mewakili distribusi tarif yang lebih baik. Dengan demikian, kita dapat menghitung nilai yang hilang dengan nilai rata-rata/median tarif tiket dari kelas 3.\n",
    "dffClean['ticketClass'].unique()\n",
    "#Get the ticket class, i.e., 3\n",
    "ticketClass = dffClean[dffClean['fare'].isna()]['ticketClass']\n",
    "if (len(ticketClass)>0):\n",
    "#Find the median fare of tickets from class 3\n",
    "    fareMedian = dffClean[dffClean['ticketClass']==ticketClass[0]]['fare'].median()\n",
    "#impute the value\n",
    "\n",
    "dffClean['fare'] = dffClean['fare'].fillna(fareMedian)\n",
    "dffClean.isna().sum().sort_values(ascending=False)\n"
   ]
  },
  {
   "cell_type": "code",
   "execution_count": 79,
   "metadata": {},
   "outputs": [],
   "source": [
    "#Simpan dataframe yang telah dibersihkan sebagai file csv dengan nama \"titanicClean.csv\"\n",
    "\n",
    "file = \"titanicClean.csv\" \n",
    "dffClean.to_csv(file, index=False)"
   ]
  },
  {
   "cell_type": "code",
   "execution_count": 80,
   "metadata": {},
   "outputs": [
    {
     "name": "stdout",
     "output_type": "stream",
     "text": [
      "<class 'pandas.core.frame.DataFrame'>\n",
      "RangeIndex: 1309 entries, 0 to 1308\n",
      "Data columns (total 10 columns):\n",
      " #   Column           Non-Null Count  Dtype  \n",
      "---  ------           --------------  -----  \n",
      " 0   ticketClass      1309 non-null   int64  \n",
      " 1   survived         1309 non-null   int64  \n",
      " 2   name             1309 non-null   object \n",
      " 3   sex              1309 non-null   object \n",
      " 4   age              1309 non-null   float64\n",
      " 5   siblingsSpouses  1309 non-null   int64  \n",
      " 6   parentsChildren  1309 non-null   int64  \n",
      " 7   ticket           1309 non-null   object \n",
      " 8   fare             1309 non-null   float64\n",
      " 9   embarked         1309 non-null   object \n",
      "dtypes: float64(2), int64(4), object(4)\n",
      "memory usage: 102.4+ KB\n"
     ]
    }
   ],
   "source": [
    "#Muat kumpulan data yang telah dibersihkan ke dalam kerangka data baru\n",
    "titanicClean = pd.read_csv(file)\n",
    "titanicClean.info()\n"
   ]
  },
  {
   "cell_type": "code",
   "execution_count": 81,
   "metadata": {},
   "outputs": [
    {
     "data": {
      "text/html": [
       "<div>\n",
       "<style scoped>\n",
       "    .dataframe tbody tr th:only-of-type {\n",
       "        vertical-align: middle;\n",
       "    }\n",
       "\n",
       "    .dataframe tbody tr th {\n",
       "        vertical-align: top;\n",
       "    }\n",
       "\n",
       "    .dataframe thead th {\n",
       "        text-align: right;\n",
       "    }\n",
       "</style>\n",
       "<table border=\"1\" class=\"dataframe\">\n",
       "  <thead>\n",
       "    <tr style=\"text-align: right;\">\n",
       "      <th></th>\n",
       "      <th>survived</th>\n",
       "      <th>age</th>\n",
       "      <th>siblingsSpouses</th>\n",
       "      <th>parentsChildren</th>\n",
       "      <th>fare</th>\n",
       "    </tr>\n",
       "  </thead>\n",
       "  <tbody>\n",
       "    <tr>\n",
       "      <th>count</th>\n",
       "      <td>1309.000000</td>\n",
       "      <td>1309.000000</td>\n",
       "      <td>1309.000000</td>\n",
       "      <td>1309.000000</td>\n",
       "      <td>1309.000000</td>\n",
       "    </tr>\n",
       "    <tr>\n",
       "      <th>mean</th>\n",
       "      <td>0.381971</td>\n",
       "      <td>29.503186</td>\n",
       "      <td>0.498854</td>\n",
       "      <td>0.385027</td>\n",
       "      <td>33.276193</td>\n",
       "    </tr>\n",
       "    <tr>\n",
       "      <th>std</th>\n",
       "      <td>0.486055</td>\n",
       "      <td>12.905241</td>\n",
       "      <td>1.041658</td>\n",
       "      <td>0.865560</td>\n",
       "      <td>51.743584</td>\n",
       "    </tr>\n",
       "    <tr>\n",
       "      <th>min</th>\n",
       "      <td>0.000000</td>\n",
       "      <td>0.170000</td>\n",
       "      <td>0.000000</td>\n",
       "      <td>0.000000</td>\n",
       "      <td>0.000000</td>\n",
       "    </tr>\n",
       "    <tr>\n",
       "      <th>25%</th>\n",
       "      <td>0.000000</td>\n",
       "      <td>22.000000</td>\n",
       "      <td>0.000000</td>\n",
       "      <td>0.000000</td>\n",
       "      <td>7.895800</td>\n",
       "    </tr>\n",
       "    <tr>\n",
       "      <th>50%</th>\n",
       "      <td>0.000000</td>\n",
       "      <td>28.000000</td>\n",
       "      <td>0.000000</td>\n",
       "      <td>0.000000</td>\n",
       "      <td>14.454200</td>\n",
       "    </tr>\n",
       "    <tr>\n",
       "      <th>75%</th>\n",
       "      <td>1.000000</td>\n",
       "      <td>35.000000</td>\n",
       "      <td>1.000000</td>\n",
       "      <td>0.000000</td>\n",
       "      <td>31.275000</td>\n",
       "    </tr>\n",
       "    <tr>\n",
       "      <th>max</th>\n",
       "      <td>1.000000</td>\n",
       "      <td>80.000000</td>\n",
       "      <td>8.000000</td>\n",
       "      <td>9.000000</td>\n",
       "      <td>512.329200</td>\n",
       "    </tr>\n",
       "  </tbody>\n",
       "</table>\n",
       "</div>"
      ],
      "text/plain": [
       "          survived          age  siblingsSpouses  parentsChildren         fare\n",
       "count  1309.000000  1309.000000      1309.000000      1309.000000  1309.000000\n",
       "mean      0.381971    29.503186         0.498854         0.385027    33.276193\n",
       "std       0.486055    12.905241         1.041658         0.865560    51.743584\n",
       "min       0.000000     0.170000         0.000000         0.000000     0.000000\n",
       "25%       0.000000    22.000000         0.000000         0.000000     7.895800\n",
       "50%       0.000000    28.000000         0.000000         0.000000    14.454200\n",
       "75%       1.000000    35.000000         1.000000         0.000000    31.275000\n",
       "max       1.000000    80.000000         8.000000         9.000000   512.329200"
      ]
     },
     "execution_count": 81,
     "metadata": {},
     "output_type": "execute_result"
    }
   ],
   "source": [
    "#Dapatkan beberapa statistik deskriptif untuk kumpulan data yang hanya memilih variabel yang statistik deskriptifnya masuk akal\n",
    "#fungsi deskripsi akan memberikan statistik deskriptif untuk variabel apa pun yang numerik #termasuk TicketClass; Namun, variabel ini tidak memiliki arti apapun #Oleh karena itu, mereka harus dimasukkan dalam kumpulan statistik deskriptif\n",
    "titanicClean[['survived', 'age', 'siblingsSpouses', 'parentsChildren', 'fare']].describe()\n"
   ]
  },
  {
   "cell_type": "code",
   "execution_count": 82,
   "metadata": {},
   "outputs": [],
   "source": [
    "#Untuk setiap penumpang, cari tahu berapa banyak total anggota keluarganya dan simpan informasi ini sebagai variabel baru dalam dataframe\n",
    "titanicClean[\"familySize\"] = titanicClean[\"siblingsSpouses\"] + titanicClean[\"parentsChildren\"] + 1\n"
   ]
  },
  {
   "cell_type": "code",
   "execution_count": 83,
   "metadata": {},
   "outputs": [
    {
     "data": {
      "text/html": [
       "<div>\n",
       "<style scoped>\n",
       "    .dataframe tbody tr th:only-of-type {\n",
       "        vertical-align: middle;\n",
       "    }\n",
       "\n",
       "    .dataframe tbody tr th {\n",
       "        vertical-align: top;\n",
       "    }\n",
       "\n",
       "    .dataframe thead th {\n",
       "        text-align: right;\n",
       "    }\n",
       "</style>\n",
       "<table border=\"1\" class=\"dataframe\">\n",
       "  <thead>\n",
       "    <tr style=\"text-align: right;\">\n",
       "      <th></th>\n",
       "      <th>ticketClass</th>\n",
       "      <th>survived</th>\n",
       "      <th>name</th>\n",
       "      <th>sex</th>\n",
       "      <th>age</th>\n",
       "      <th>siblingsSpouses</th>\n",
       "      <th>parentsChildren</th>\n",
       "      <th>ticket</th>\n",
       "      <th>fare</th>\n",
       "      <th>embarked</th>\n",
       "      <th>familySize</th>\n",
       "    </tr>\n",
       "  </thead>\n",
       "  <tbody>\n",
       "    <tr>\n",
       "      <th>1096</th>\n",
       "      <td>3</td>\n",
       "      <td>0</td>\n",
       "      <td>Palsson, Master. Gosta Leonard</td>\n",
       "      <td>male</td>\n",
       "      <td>2.0</td>\n",
       "      <td>3</td>\n",
       "      <td>1</td>\n",
       "      <td>349909</td>\n",
       "      <td>21.075</td>\n",
       "      <td>S</td>\n",
       "      <td>5</td>\n",
       "    </tr>\n",
       "    <tr>\n",
       "      <th>1097</th>\n",
       "      <td>3</td>\n",
       "      <td>0</td>\n",
       "      <td>Palsson, Master. Paul Folke</td>\n",
       "      <td>male</td>\n",
       "      <td>6.0</td>\n",
       "      <td>3</td>\n",
       "      <td>1</td>\n",
       "      <td>349909</td>\n",
       "      <td>21.075</td>\n",
       "      <td>S</td>\n",
       "      <td>5</td>\n",
       "    </tr>\n",
       "    <tr>\n",
       "      <th>1098</th>\n",
       "      <td>3</td>\n",
       "      <td>0</td>\n",
       "      <td>Palsson, Miss. Stina Viola</td>\n",
       "      <td>female</td>\n",
       "      <td>3.0</td>\n",
       "      <td>3</td>\n",
       "      <td>1</td>\n",
       "      <td>349909</td>\n",
       "      <td>21.075</td>\n",
       "      <td>S</td>\n",
       "      <td>5</td>\n",
       "    </tr>\n",
       "    <tr>\n",
       "      <th>1099</th>\n",
       "      <td>3</td>\n",
       "      <td>0</td>\n",
       "      <td>Palsson, Miss. Torborg Danira</td>\n",
       "      <td>female</td>\n",
       "      <td>8.0</td>\n",
       "      <td>3</td>\n",
       "      <td>1</td>\n",
       "      <td>349909</td>\n",
       "      <td>21.075</td>\n",
       "      <td>S</td>\n",
       "      <td>5</td>\n",
       "    </tr>\n",
       "    <tr>\n",
       "      <th>1100</th>\n",
       "      <td>3</td>\n",
       "      <td>0</td>\n",
       "      <td>Palsson, Mrs. Nils (Alma Cornelia Berglund)</td>\n",
       "      <td>female</td>\n",
       "      <td>29.0</td>\n",
       "      <td>0</td>\n",
       "      <td>4</td>\n",
       "      <td>349909</td>\n",
       "      <td>21.075</td>\n",
       "      <td>S</td>\n",
       "      <td>5</td>\n",
       "    </tr>\n",
       "  </tbody>\n",
       "</table>\n",
       "</div>"
      ],
      "text/plain": [
       "      ticketClass  survived                                         name  \\\n",
       "1096            3         0               Palsson, Master. Gosta Leonard   \n",
       "1097            3         0                  Palsson, Master. Paul Folke   \n",
       "1098            3         0                   Palsson, Miss. Stina Viola   \n",
       "1099            3         0                Palsson, Miss. Torborg Danira   \n",
       "1100            3         0  Palsson, Mrs. Nils (Alma Cornelia Berglund)   \n",
       "\n",
       "         sex   age  siblingsSpouses  parentsChildren  ticket    fare embarked  \\\n",
       "1096    male   2.0                3                1  349909  21.075        S   \n",
       "1097    male   6.0                3                1  349909  21.075        S   \n",
       "1098  female   3.0                3                1  349909  21.075        S   \n",
       "1099  female   8.0                3                1  349909  21.075        S   \n",
       "1100  female  29.0                0                4  349909  21.075        S   \n",
       "\n",
       "      familySize  \n",
       "1096           5  \n",
       "1097           5  \n",
       "1098           5  \n",
       "1099           5  \n",
       "1100           5  "
      ]
     },
     "execution_count": 83,
     "metadata": {},
     "output_type": "execute_result"
    }
   ],
   "source": [
    "#Cetak catatan untuk keluarga dengan nama keluarga \"Palsson\" dan konfirmasikan bahwa hasil dari tugas T17i benar\n",
    "\n",
    "titanicClean[titanicClean['name'].str.contains(\"Palsson\")]\n"
   ]
  },
  {
   "cell_type": "code",
   "execution_count": 84,
   "metadata": {},
   "outputs": [
    {
     "data": {
      "text/html": [
       "<div>\n",
       "<style scoped>\n",
       "    .dataframe tbody tr th:only-of-type {\n",
       "        vertical-align: middle;\n",
       "    }\n",
       "\n",
       "    .dataframe tbody tr th {\n",
       "        vertical-align: top;\n",
       "    }\n",
       "\n",
       "    .dataframe thead th {\n",
       "        text-align: right;\n",
       "    }\n",
       "</style>\n",
       "<table border=\"1\" class=\"dataframe\">\n",
       "  <thead>\n",
       "    <tr style=\"text-align: right;\">\n",
       "      <th></th>\n",
       "      <th>ticketClass</th>\n",
       "      <th>survived</th>\n",
       "      <th>name</th>\n",
       "      <th>sex</th>\n",
       "      <th>age</th>\n",
       "      <th>siblingsSpouses</th>\n",
       "      <th>parentsChildren</th>\n",
       "      <th>ticket</th>\n",
       "      <th>fare</th>\n",
       "      <th>embarked</th>\n",
       "      <th>familySize</th>\n",
       "    </tr>\n",
       "  </thead>\n",
       "  <tbody>\n",
       "    <tr>\n",
       "      <th>1170</th>\n",
       "      <td>3</td>\n",
       "      <td>0</td>\n",
       "      <td>Sage, Master. Thomas Henry</td>\n",
       "      <td>male</td>\n",
       "      <td>28.0</td>\n",
       "      <td>8</td>\n",
       "      <td>2</td>\n",
       "      <td>CA. 2343</td>\n",
       "      <td>69.55</td>\n",
       "      <td>S</td>\n",
       "      <td>11</td>\n",
       "    </tr>\n",
       "    <tr>\n",
       "      <th>1171</th>\n",
       "      <td>3</td>\n",
       "      <td>0</td>\n",
       "      <td>Sage, Master. William Henry</td>\n",
       "      <td>male</td>\n",
       "      <td>14.5</td>\n",
       "      <td>8</td>\n",
       "      <td>2</td>\n",
       "      <td>CA. 2343</td>\n",
       "      <td>69.55</td>\n",
       "      <td>S</td>\n",
       "      <td>11</td>\n",
       "    </tr>\n",
       "    <tr>\n",
       "      <th>1172</th>\n",
       "      <td>3</td>\n",
       "      <td>0</td>\n",
       "      <td>Sage, Miss. Ada</td>\n",
       "      <td>female</td>\n",
       "      <td>28.0</td>\n",
       "      <td>8</td>\n",
       "      <td>2</td>\n",
       "      <td>CA. 2343</td>\n",
       "      <td>69.55</td>\n",
       "      <td>S</td>\n",
       "      <td>11</td>\n",
       "    </tr>\n",
       "    <tr>\n",
       "      <th>1173</th>\n",
       "      <td>3</td>\n",
       "      <td>0</td>\n",
       "      <td>Sage, Miss. Constance Gladys</td>\n",
       "      <td>female</td>\n",
       "      <td>28.0</td>\n",
       "      <td>8</td>\n",
       "      <td>2</td>\n",
       "      <td>CA. 2343</td>\n",
       "      <td>69.55</td>\n",
       "      <td>S</td>\n",
       "      <td>11</td>\n",
       "    </tr>\n",
       "    <tr>\n",
       "      <th>1174</th>\n",
       "      <td>3</td>\n",
       "      <td>0</td>\n",
       "      <td>Sage, Miss. Dorothy Edith \"Dolly\"</td>\n",
       "      <td>female</td>\n",
       "      <td>28.0</td>\n",
       "      <td>8</td>\n",
       "      <td>2</td>\n",
       "      <td>CA. 2343</td>\n",
       "      <td>69.55</td>\n",
       "      <td>S</td>\n",
       "      <td>11</td>\n",
       "    </tr>\n",
       "    <tr>\n",
       "      <th>1175</th>\n",
       "      <td>3</td>\n",
       "      <td>0</td>\n",
       "      <td>Sage, Miss. Stella Anna</td>\n",
       "      <td>female</td>\n",
       "      <td>28.0</td>\n",
       "      <td>8</td>\n",
       "      <td>2</td>\n",
       "      <td>CA. 2343</td>\n",
       "      <td>69.55</td>\n",
       "      <td>S</td>\n",
       "      <td>11</td>\n",
       "    </tr>\n",
       "    <tr>\n",
       "      <th>1176</th>\n",
       "      <td>3</td>\n",
       "      <td>0</td>\n",
       "      <td>Sage, Mr. Douglas Bullen</td>\n",
       "      <td>male</td>\n",
       "      <td>28.0</td>\n",
       "      <td>8</td>\n",
       "      <td>2</td>\n",
       "      <td>CA. 2343</td>\n",
       "      <td>69.55</td>\n",
       "      <td>S</td>\n",
       "      <td>11</td>\n",
       "    </tr>\n",
       "    <tr>\n",
       "      <th>1177</th>\n",
       "      <td>3</td>\n",
       "      <td>0</td>\n",
       "      <td>Sage, Mr. Frederick</td>\n",
       "      <td>male</td>\n",
       "      <td>28.0</td>\n",
       "      <td>8</td>\n",
       "      <td>2</td>\n",
       "      <td>CA. 2343</td>\n",
       "      <td>69.55</td>\n",
       "      <td>S</td>\n",
       "      <td>11</td>\n",
       "    </tr>\n",
       "    <tr>\n",
       "      <th>1178</th>\n",
       "      <td>3</td>\n",
       "      <td>0</td>\n",
       "      <td>Sage, Mr. George John Jr</td>\n",
       "      <td>male</td>\n",
       "      <td>28.0</td>\n",
       "      <td>8</td>\n",
       "      <td>2</td>\n",
       "      <td>CA. 2343</td>\n",
       "      <td>69.55</td>\n",
       "      <td>S</td>\n",
       "      <td>11</td>\n",
       "    </tr>\n",
       "    <tr>\n",
       "      <th>1179</th>\n",
       "      <td>3</td>\n",
       "      <td>0</td>\n",
       "      <td>Sage, Mr. John George</td>\n",
       "      <td>male</td>\n",
       "      <td>28.0</td>\n",
       "      <td>1</td>\n",
       "      <td>9</td>\n",
       "      <td>CA. 2343</td>\n",
       "      <td>69.55</td>\n",
       "      <td>S</td>\n",
       "      <td>11</td>\n",
       "    </tr>\n",
       "    <tr>\n",
       "      <th>1180</th>\n",
       "      <td>3</td>\n",
       "      <td>0</td>\n",
       "      <td>Sage, Mrs. John (Annie Bullen)</td>\n",
       "      <td>female</td>\n",
       "      <td>28.0</td>\n",
       "      <td>1</td>\n",
       "      <td>9</td>\n",
       "      <td>CA. 2343</td>\n",
       "      <td>69.55</td>\n",
       "      <td>S</td>\n",
       "      <td>11</td>\n",
       "    </tr>\n",
       "  </tbody>\n",
       "</table>\n",
       "</div>"
      ],
      "text/plain": [
       "      ticketClass  survived                               name     sex   age  \\\n",
       "1170            3         0         Sage, Master. Thomas Henry    male  28.0   \n",
       "1171            3         0        Sage, Master. William Henry    male  14.5   \n",
       "1172            3         0                    Sage, Miss. Ada  female  28.0   \n",
       "1173            3         0       Sage, Miss. Constance Gladys  female  28.0   \n",
       "1174            3         0  Sage, Miss. Dorothy Edith \"Dolly\"  female  28.0   \n",
       "1175            3         0            Sage, Miss. Stella Anna  female  28.0   \n",
       "1176            3         0           Sage, Mr. Douglas Bullen    male  28.0   \n",
       "1177            3         0                Sage, Mr. Frederick    male  28.0   \n",
       "1178            3         0           Sage, Mr. George John Jr    male  28.0   \n",
       "1179            3         0              Sage, Mr. John George    male  28.0   \n",
       "1180            3         0     Sage, Mrs. John (Annie Bullen)  female  28.0   \n",
       "\n",
       "      siblingsSpouses  parentsChildren    ticket   fare embarked  familySize  \n",
       "1170                8                2  CA. 2343  69.55        S          11  \n",
       "1171                8                2  CA. 2343  69.55        S          11  \n",
       "1172                8                2  CA. 2343  69.55        S          11  \n",
       "1173                8                2  CA. 2343  69.55        S          11  \n",
       "1174                8                2  CA. 2343  69.55        S          11  \n",
       "1175                8                2  CA. 2343  69.55        S          11  \n",
       "1176                8                2  CA. 2343  69.55        S          11  \n",
       "1177                8                2  CA. 2343  69.55        S          11  \n",
       "1178                8                2  CA. 2343  69.55        S          11  \n",
       "1179                1                9  CA. 2343  69.55        S          11  \n",
       "1180                1                9  CA. 2343  69.55        S          11  "
      ]
     },
     "execution_count": 84,
     "metadata": {},
     "output_type": "execute_result"
    }
   ],
   "source": [
    "#Cari tahu dan cetak detail informasi dari keluarga yang memiliki jumlah terbesar\n",
    "#Solution1\n",
    "titanicClean[titanicClean['familySize']==max(titanicClean[\"familySize\"])]\n",
    "#Solution2\n",
    "biggestfamily = np.where(titanicClean[\"familySize\"] == max(titanicClean[\"familySize\"]))\n",
    "titanicClean.iloc[biggestfamily]\n"
   ]
  },
  {
   "cell_type": "code",
   "execution_count": 85,
   "metadata": {},
   "outputs": [
    {
     "data": {
      "image/png": "[encoded data removed]",
      "text/plain": [
       "<Figure size 400x300 with 1 Axes>"
      ]
     },
     "metadata": {},
     "output_type": "display_data"
    },
    {
     "data": {
      "image/png": "[encoded data removed]",
      "text/plain": [
       "<Figure size 400x300 with 1 Axes>"
      ]
     },
     "metadata": {},
     "output_type": "display_data"
    }
   ],
   "source": [
    "# Bagaimana pembagian tarif tiket kelas 1\n",
    "#membuat boxplot dan selidiki informasi yang menarik\n",
    "\n",
    "#using Pandas\n",
    "plt.figure(figsize=(4,3), dpi=100)\n",
    "ax = titanicClean[titanicClean['ticketClass']==1].boxplot(column='fare') \n",
    "ax.set_title(\"Boxplot for ticket fares of class 1\") \n",
    "ax.set_ylabel('Fare',fontsize=16,rotation=90) # set y label ax.set_xlabel('Class 1',fontsize=16) ax.grid(False)\n",
    "#Using seaborn \n",
    "d = titanicClean[titanicClean['ticketClass']==1]\n",
    "plt.subplots(figsize=(4,3), dpi=100) \n",
    "ax = sns.boxplot(y=\"fare\", data=d)\n",
    "ax.set_title(\"Boxplot for ticket fares of class 1\") \n",
    "ax.set_ylabel('Fare',fontsize=20,rotation=90) \n",
    "# set y label \n",
    "ax.set_xlabel('Class 1',fontsize=20) \n",
    "# set x label \n",
    "ax.grid(False)\n"
   ]
  },
  {
   "cell_type": "code",
   "execution_count": 86,
   "metadata": {},
   "outputs": [
    {
     "name": "stdout",
     "output_type": "stream",
     "text": [
      "Mean=87.509 and standard deviation=80.323 of ticket fares for class 1\n",
      "The following could be considered as outliers 49     512.3292\n",
      "50     512.3292\n",
      "183    512.3292\n",
      "302    512.3292\n",
      "Name: fare, dtype: float64\n"
     ]
    }
   ],
   "source": [
    "# melihat nilai tarif yang aneh? Periksa apakah ada outlier untuk tarif tiket kelas 1 menggunakan metode standar deviasi\n",
    "fareClass1 = titanicClean[titanicClean['ticketClass']==1]['fare']\n",
    "fareStd = np.std(fareClass1) \n",
    "fareMean = np.mean(fareClass1) \n",
    "fareOutliers = fareClass1[(fareClass1 > fareMean + 3 *fareStd) | \n",
    "(fareClass1 < fareMean - 3 *fareStd)]\n",
    "print(\"Mean=%.3f and standard deviation=%.3f of ticket fares for class 1\" % \n",
    "(fareMean, fareStd))\n",
    "print(\"The following could be considered as outliers %s\" % (fareOutliers))\n"
   ]
  },
  {
   "cell_type": "code",
   "execution_count": 87,
   "metadata": {},
   "outputs": [
    {
     "data": {
      "text/html": [
       "<div>\n",
       "<style scoped>\n",
       "    .dataframe tbody tr th:only-of-type {\n",
       "        vertical-align: middle;\n",
       "    }\n",
       "\n",
       "    .dataframe tbody tr th {\n",
       "        vertical-align: top;\n",
       "    }\n",
       "\n",
       "    .dataframe thead th {\n",
       "        text-align: right;\n",
       "    }\n",
       "</style>\n",
       "<table border=\"1\" class=\"dataframe\">\n",
       "  <thead>\n",
       "    <tr style=\"text-align: right;\">\n",
       "      <th></th>\n",
       "      <th>ticketClass</th>\n",
       "      <th>survived</th>\n",
       "      <th>name</th>\n",
       "      <th>sex</th>\n",
       "      <th>age</th>\n",
       "      <th>siblingsSpouses</th>\n",
       "      <th>parentsChildren</th>\n",
       "      <th>ticket</th>\n",
       "      <th>fare</th>\n",
       "      <th>embarked</th>\n",
       "      <th>familySize</th>\n",
       "    </tr>\n",
       "  </thead>\n",
       "  <tbody>\n",
       "    <tr>\n",
       "      <th>49</th>\n",
       "      <td>1</td>\n",
       "      <td>1</td>\n",
       "      <td>Cardeza, Mr. Thomas Drake Martinez</td>\n",
       "      <td>male</td>\n",
       "      <td>36.0</td>\n",
       "      <td>0</td>\n",
       "      <td>1</td>\n",
       "      <td>PC 17755</td>\n",
       "      <td>512.3292</td>\n",
       "      <td>C</td>\n",
       "      <td>2</td>\n",
       "    </tr>\n",
       "    <tr>\n",
       "      <th>50</th>\n",
       "      <td>1</td>\n",
       "      <td>1</td>\n",
       "      <td>Cardeza, Mrs. James Warburton Martinez (Charlo...</td>\n",
       "      <td>female</td>\n",
       "      <td>58.0</td>\n",
       "      <td>0</td>\n",
       "      <td>1</td>\n",
       "      <td>PC 17755</td>\n",
       "      <td>512.3292</td>\n",
       "      <td>C</td>\n",
       "      <td>2</td>\n",
       "    </tr>\n",
       "    <tr>\n",
       "      <th>183</th>\n",
       "      <td>1</td>\n",
       "      <td>1</td>\n",
       "      <td>Lesurer, Mr. Gustave J</td>\n",
       "      <td>male</td>\n",
       "      <td>35.0</td>\n",
       "      <td>0</td>\n",
       "      <td>0</td>\n",
       "      <td>PC 17755</td>\n",
       "      <td>512.3292</td>\n",
       "      <td>C</td>\n",
       "      <td>1</td>\n",
       "    </tr>\n",
       "    <tr>\n",
       "      <th>302</th>\n",
       "      <td>1</td>\n",
       "      <td>1</td>\n",
       "      <td>Ward, Miss. Anna</td>\n",
       "      <td>female</td>\n",
       "      <td>35.0</td>\n",
       "      <td>0</td>\n",
       "      <td>0</td>\n",
       "      <td>PC 17755</td>\n",
       "      <td>512.3292</td>\n",
       "      <td>C</td>\n",
       "      <td>1</td>\n",
       "    </tr>\n",
       "  </tbody>\n",
       "</table>\n",
       "</div>"
      ],
      "text/plain": [
       "     ticketClass  survived                                               name  \\\n",
       "49             1         1                 Cardeza, Mr. Thomas Drake Martinez   \n",
       "50             1         1  Cardeza, Mrs. James Warburton Martinez (Charlo...   \n",
       "183            1         1                             Lesurer, Mr. Gustave J   \n",
       "302            1         1                                   Ward, Miss. Anna   \n",
       "\n",
       "        sex   age  siblingsSpouses  parentsChildren    ticket      fare  \\\n",
       "49     male  36.0                0                1  PC 17755  512.3292   \n",
       "50   female  58.0                0                1  PC 17755  512.3292   \n",
       "183    male  35.0                0                0  PC 17755  512.3292   \n",
       "302  female  35.0                0                0  PC 17755  512.3292   \n",
       "\n",
       "    embarked  familySize  \n",
       "49         C           2  \n",
       "50         C           2  \n",
       "183        C           1  \n",
       "302        C           1  "
      ]
     },
     "execution_count": 87,
     "metadata": {},
     "output_type": "execute_result"
    }
   ],
   "source": [
    "# Cetak informasi untuk penumpang tersebut\n",
    "\n",
    "#Solution1 \n",
    "titanicClean[titanicClean['fare']==fareOutliers.iloc[0]]\n",
    "#Solution2\n",
    "titanicClean.loc[fareOutliers.index]\n"
   ]
  },
  {
   "cell_type": "code",
   "execution_count": 88,
   "metadata": {},
   "outputs": [
    {
     "data": {
      "text/plain": [
       "Text(0.5, 0, 'Port')"
      ]
     },
     "execution_count": 88,
     "metadata": {},
     "output_type": "execute_result"
    },
    {
     "data": {
      "text/plain": [
       "<Figure size 400x300 with 0 Axes>"
      ]
     },
     "metadata": {},
     "output_type": "display_data"
    },
    {
     "data": {
      "image/png": "[encoded data removed]",
      "text/plain": [
       "<Figure size 640x480 with 1 Axes>"
      ]
     },
     "metadata": {},
     "output_type": "display_data"
    },
    {
     "data": {
      "image/png": "[encoded data removed]",
      "text/plain": [
       "<Figure size 400x300 with 1 Axes>"
      ]
     },
     "metadata": {},
     "output_type": "display_data"
    },
    {
     "data": {
      "image/png": "[encoded data removed]",
      "text/plain": [
       "<Figure size 400x300 with 1 Axes>"
      ]
     },
     "metadata": {},
     "output_type": "display_data"
    }
   ],
   "source": [
    "# Pertama-tama kita perlu mengelompokkan dataframe berdasarkan variabel embarked\n",
    "embarked = titanicClean.groupby('embarked').count()\n",
    "#Buat dataframe berdasarkan grouping\n",
    "embarkedDf = pd.DataFrame({'Port': embarked.index, 'Count':embarked['ticketClass']})\n",
    "#Finally, we plot the barplot\n",
    "plt.figure(figsize=(4,3), dpi=100) \n",
    "ax = embarkedDf.plot.bar(x='Port', y='Count') \n",
    "ax.set_title(\"Barplot based on embarked port\", fontsize=16) \n",
    "ax.set_ylabel('Count',fontsize=16,rotation=90)\n",
    " # set y label ax.set_xlabel('Port', fontsize=16) ax.grid(False)\n",
    "#Using seaborn\n",
    "plt.subplots(figsize=(4,3), dpi=100)\n",
    "ax = sns.countplot(data=titanicClean, x='embarked') \n",
    "ax.set_title(\"Barplot based on embarked port\", fontsize=16) \n",
    "ax.set_xlabel('Port',fontsize=16) # set x label\n",
    "ax.set_ylabel('Embarked',fontsize=16,rotation=90) # set y label ax.grid(False)\n",
    "#Using matplotlib\n",
    "#Pertama-tama kita perlu mengelompokkan item data bersama-sama\n",
    "#semua entri data pada dataframe yang dihasilkan menghitung jumlah penumpang yang berangkat di setiap Pelabuhan\n",
    "# embarked = titanicClean.groupby('embarked').count().iloc[:,1] \n",
    "embarked = titanicClean.groupby('embarked').count()['ticketClass']\n",
    "plt.figure(figsize=(4,3), dpi=100)\n",
    "plt.bar(embarked.index, embarked) \n",
    "plt.title(\"Barplot based on embarked port\", fontsize=16) \n",
    "plt.xlabel('Port',fontsize=16) # set x label plt.ylabel('embarked',fontsize=16,rotation=90) # set y label ax.grid(False)\n"
   ]
  },
  {
   "cell_type": "code",
   "execution_count": 89,
   "metadata": {},
   "outputs": [
    {
     "name": "stderr",
     "output_type": "stream",
     "text": [
      "<>:15: SyntaxWarning: invalid escape sequence '\\.'\n",
      "<>:16: SyntaxWarning: invalid escape sequence '\\.'\n",
      "<>:17: SyntaxWarning: invalid escape sequence '\\.'\n",
      "<>:15: SyntaxWarning: invalid escape sequence '\\.'\n",
      "<>:16: SyntaxWarning: invalid escape sequence '\\.'\n",
      "<>:17: SyntaxWarning: invalid escape sequence '\\.'\n",
      "C:\\Users\\Hernando\\AppData\\Local\\Temp\\ipykernel_21932\\1757506939.py:15: SyntaxWarning: invalid escape sequence '\\.'\n",
      "  s.str.extract(' ([A-Za-z]+)\\. ')\n",
      "C:\\Users\\Hernando\\AppData\\Local\\Temp\\ipykernel_21932\\1757506939.py:16: SyntaxWarning: invalid escape sequence '\\.'\n",
      "  s.str.extract(' ([A-Za-z]+)\\. ',expand=False)\n",
      "C:\\Users\\Hernando\\AppData\\Local\\Temp\\ipykernel_21932\\1757506939.py:17: SyntaxWarning: invalid escape sequence '\\.'\n",
      "  titanicClean['Title'] = titanicClean.name.str.extract(' ([A-Za-z]+)\\.', expand=False)\n"
     ]
    }
   ],
   "source": [
    "# •\tBuat kolom baru 'Title' yang menyertakan panggilan setiap penumpang dan hanya memiliki entri berikut:\n",
    "# •\tMaster, Miss, Mr, Mss where\n",
    "# •\tMiss includes also Mlle and Ms\n",
    "# •\tMme includes also Mrs\n",
    "# •\tall the remaining titles become Rare\n",
    "sr = pd.Series(['New_York', 'Lisbon', 'Tokyo', 'Paris', 'Munich']) \n",
    "sr.str.extract('([auieo])') #sr.str.extract(pat = '([auieo])') \n",
    "sr = pd.Series(['USA New_York', 'Portugal Lisbon', 'Japan Tokyo', 'France Paris', 'Germany Munich']) \n",
    "sr.str.extract('([A-Za-z]+) ') \n",
    "sr.str.extract(' ([A-Za-z]+)')\n",
    "s = pd.Series(['Allen, Miss. Elisabeth Walton', 'Anderson, Mr. Harry', \n",
    "'Astor, Col. John Jacob'])\n",
    "s.str.extract('([A-Za-z,]+) ') \n",
    "s.str.extract(' ([A-Za-z,]+) ')\n",
    "s.str.extract(' ([A-Za-z]+)\\. ')\n",
    "s.str.extract(' ([A-Za-z]+)\\. ',expand=False)\n",
    "titanicClean['Title'] = titanicClean.name.str.extract(' ([A-Za-z]+)\\.', expand=False)\n",
    "titanicClean['Title'] = titanicClean['Title'].replace('Mlle', 'Miss') \n",
    "titanicClean['Title'] = titanicClean['Title'].replace('Ms', 'Miss') \n",
    "titanicClean['Title'] = titanicClean['Title'].replace('Mme', 'Mrs')\n",
    "titanicClean['Title'] = titanicClean['Title'].replace(['Lady', 'Countess','Capt', 'Col', 'Don', 'Dr', 'Major', 'Rev', 'Sir', 'Jonkheer', 'Dona'], 'Rare')\n"
   ]
  }
 ],
 "metadata": {
  "kernelspec": {
   "display_name": "Python 3",
   "language": "python",
   "name": "python3"
  },
  "language_info": {
   "codemirror_mode": {
    "name": "ipython",
    "version": 3
   },
   "file_extension": ".py",
   "mimetype": "text/x-python",
   "name": "python",
   "nbconvert_exporter": "python",
   "pygments_lexer": "ipython3",
   "version": "3.12.2"
  }
 },
 "nbformat": 4,
 "nbformat_minor": 2
}
